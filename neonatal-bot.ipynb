{
 "cells": [
  {
   "cell_type": "code",
   "execution_count": 1,
   "metadata": {
    "collapsed": true
   },
   "outputs": [],
   "source": [
    "import numpy as np\n",
    "import tensorflow as tf"
   ]
  },
  {
   "cell_type": "code",
   "execution_count": 2,
   "metadata": {
    "collapsed": true
   },
   "outputs": [],
   "source": [
    "sentences = [['hi'],\n",
    "             ['hello'],\n",
    "             ['hi', 'there', 'how', 'are', 'you'],\n",
    "             ['i', 'am', 'fine', 'how', 'do', 'you', 'do'],\n",
    "             ['i', 'am', 'doing', 'fine'],\n",
    "             ['what', 'is', 'your', 'name'],\n",
    "             ['hi', 'my', 'name', 'is', 'strange'],\n",
    "             ['that', 'is', 'indeed', 'strange'],\n",
    "             ['hello', 'darkness', 'my', 'old', 'friend'],\n",
    "             ['darkness', 'is', 'strange']]"
   ]
  },
  {
   "cell_type": "code",
   "execution_count": 3,
   "metadata": {
    "collapsed": false
   },
   "outputs": [],
   "source": [
    "person1 = []\n",
    "person2 = []\n",
    "for i in range(len(sentences)):\n",
    "    if i%2 == 0:\n",
    "        person1.append(sentences[i])\n",
    "    else:\n",
    "        person2.append(sentences[i])"
   ]
  },
  {
   "cell_type": "code",
   "execution_count": 4,
   "metadata": {
    "collapsed": false
   },
   "outputs": [
    {
     "data": {
      "text/plain": [
       "[['hi'],\n",
       " ['hi', 'there', 'how', 'are', 'you'],\n",
       " ['i', 'am', 'doing', 'fine'],\n",
       " ['hi', 'my', 'name', 'is', 'strange'],\n",
       " ['hello', 'darkness', 'my', 'old', 'friend']]"
      ]
     },
     "execution_count": 4,
     "metadata": {},
     "output_type": "execute_result"
    }
   ],
   "source": [
    "person1"
   ]
  },
  {
   "cell_type": "code",
   "execution_count": 5,
   "metadata": {
    "collapsed": false
   },
   "outputs": [
    {
     "data": {
      "text/plain": [
       "[['hello'],\n",
       " ['i', 'am', 'fine', 'how', 'do', 'you', 'do'],\n",
       " ['what', 'is', 'your', 'name'],\n",
       " ['that', 'is', 'indeed', 'strange'],\n",
       " ['darkness', 'is', 'strange']]"
      ]
     },
     "execution_count": 5,
     "metadata": {},
     "output_type": "execute_result"
    }
   ],
   "source": [
    "person2"
   ]
  },
  {
   "cell_type": "code",
   "execution_count": 6,
   "metadata": {
    "collapsed": true
   },
   "outputs": [],
   "source": [
    "words = []\n",
    "[[words.append(w) for w in sent] for sent in sentences];\n",
    "vocab = list(set(words))\n",
    "vocab_size = len(vocab)"
   ]
  },
  {
   "cell_type": "code",
   "execution_count": 7,
   "metadata": {
    "collapsed": false
   },
   "outputs": [
    {
     "data": {
      "text/plain": [
       "22"
      ]
     },
     "execution_count": 7,
     "metadata": {},
     "output_type": "execute_result"
    }
   ],
   "source": [
    "vocab_size"
   ]
  },
  {
   "cell_type": "code",
   "execution_count": 8,
   "metadata": {
    "collapsed": false
   },
   "outputs": [],
   "source": [
    "id_to_word = dict(enumerate(vocab))\n",
    "word_to_id = {v:k for k,v in id_to_word.items()}"
   ]
  },
  {
   "cell_type": "code",
   "execution_count": 9,
   "metadata": {
    "collapsed": true
   },
   "outputs": [],
   "source": [
    "id_to_word[22] = ''"
   ]
  },
  {
   "cell_type": "code",
   "execution_count": 10,
   "metadata": {
    "collapsed": true
   },
   "outputs": [],
   "source": [
    "seq_len = max([len(s) for s in sentences])"
   ]
  },
  {
   "cell_type": "code",
   "execution_count": 11,
   "metadata": {
    "collapsed": false
   },
   "outputs": [
    {
     "data": {
      "text/plain": [
       "7"
      ]
     },
     "execution_count": 11,
     "metadata": {},
     "output_type": "execute_result"
    }
   ],
   "source": [
    "seq_len"
   ]
  },
  {
   "cell_type": "code",
   "execution_count": 12,
   "metadata": {
    "collapsed": false
   },
   "outputs": [],
   "source": [
    "for i in range(len(person1)):\n",
    "    person1[i] = [word_to_id[w] for w in person1[i]] + [vocab_size] * (seq_len - len(person1[i]))\n",
    "    person2[i] = [word_to_id[w] for w in person2[i]] + [vocab_size] * (seq_len - len(person2[i]))"
   ]
  },
  {
   "cell_type": "code",
   "execution_count": 13,
   "metadata": {
    "collapsed": true
   },
   "outputs": [],
   "source": [
    "person1 = np.array(person1)"
   ]
  },
  {
   "cell_type": "code",
   "execution_count": 14,
   "metadata": {
    "collapsed": true
   },
   "outputs": [],
   "source": [
    "person2 = np.array(person2)"
   ]
  },
  {
   "cell_type": "code",
   "execution_count": 15,
   "metadata": {
    "collapsed": true
   },
   "outputs": [],
   "source": [
    "vec = np.zeros((vocab_size+1, vocab_size+1), dtype=np.float64)\n",
    "for i in range(vocab_size+1):\n",
    "    vec[i,i] = 1.0"
   ]
  },
  {
   "cell_type": "code",
   "execution_count": 16,
   "metadata": {
    "collapsed": false
   },
   "outputs": [],
   "source": [
    "input_shape = output_shape = vocab_size+1\n",
    "hidden_shape = 64\n",
    "learning_rate = 0.001\n",
    "batch_size = person1.shape[0]"
   ]
  },
  {
   "cell_type": "code",
   "execution_count": 17,
   "metadata": {
    "collapsed": false
   },
   "outputs": [
    {
     "data": {
      "text/plain": [
       "{'am': 16,\n",
       " 'are': 17,\n",
       " 'darkness': 0,\n",
       " 'do': 15,\n",
       " 'doing': 13,\n",
       " 'fine': 1,\n",
       " 'friend': 3,\n",
       " 'hello': 12,\n",
       " 'hi': 8,\n",
       " 'how': 10,\n",
       " 'i': 14,\n",
       " 'indeed': 2,\n",
       " 'is': 6,\n",
       " 'my': 5,\n",
       " 'name': 4,\n",
       " 'old': 9,\n",
       " 'strange': 19,\n",
       " 'that': 11,\n",
       " 'there': 18,\n",
       " 'what': 7,\n",
       " 'you': 21,\n",
       " 'your': 20}"
      ]
     },
     "execution_count": 17,
     "metadata": {},
     "output_type": "execute_result"
    }
   ],
   "source": [
    "word_to_id"
   ]
  },
  {
   "cell_type": "code",
   "execution_count": 18,
   "metadata": {
    "collapsed": false
   },
   "outputs": [
    {
     "data": {
      "text/plain": [
       "['hi', 'how', 'are', 'you', '', '', '']"
      ]
     },
     "execution_count": 18,
     "metadata": {},
     "output_type": "execute_result"
    }
   ],
   "source": [
    "a = np.array([[8, 10, 17, 21, 22, 22, 22]])\n",
    "[id_to_word[i] for i in a[0]]"
   ]
  },
  {
   "cell_type": "code",
   "execution_count": 35,
   "metadata": {
    "collapsed": false
   },
   "outputs": [
    {
     "name": "stdout",
     "output_type": "stream",
     "text": [
      "3.13503145452\n",
      "person1 :  ['hi', '', '', '', '', '', '']\n",
      "person2 :  ['', 'that', 'indeed', 'strange', '', '', '']\n",
      "====================================================\n",
      "person1 :  ['hi', 'there', 'how', 'are', 'you', '', '']\n",
      "person2 :  ['', 'that', 'there', 'strange', 'is', '', '']\n",
      "====================================================\n",
      "person1 :  ['i', 'am', 'doing', 'fine', '', '', '']\n",
      "person2 :  ['', 'is', 'there', 'strange', 'is', '', '']\n",
      "====================================================\n",
      "person1 :  ['hi', 'my', 'name', 'is', 'strange', '', '']\n",
      "person2 :  ['fine', 'that', 'fine', 'strange', '', '', '']\n",
      "====================================================\n",
      "person1 :  ['hello', 'darkness', 'my', 'old', 'friend', '', '']\n",
      "person2 :  ['fine', 'that', 'there', 'my', 'you', '', '']\n",
      "====================================================\n",
      "2.23610046142\n",
      "2.20771620463\n"
     ]
    },
    {
     "ename": "KeyboardInterrupt",
     "evalue": "",
     "output_type": "error",
     "traceback": [
      "\u001b[1;31m---------------------------------------------------------------------------\u001b[0m",
      "\u001b[1;31mKeyboardInterrupt\u001b[0m                         Traceback (most recent call last)",
      "\u001b[1;32m<ipython-input-35-265a7ce7559e>\u001b[0m in \u001b[0;36m<module>\u001b[1;34m()\u001b[0m\n\u001b[0;32m     95\u001b[0m \u001b[1;33m\u001b[0m\u001b[0m\n\u001b[0;32m     96\u001b[0m         \u001b[1;32mfor\u001b[0m \u001b[0mi\u001b[0m \u001b[1;32min\u001b[0m \u001b[0mrange\u001b[0m\u001b[1;33m(\u001b[0m\u001b[1;36m10001\u001b[0m\u001b[1;33m)\u001b[0m\u001b[1;33m:\u001b[0m\u001b[1;33m\u001b[0m\u001b[0m\n\u001b[1;32m---> 97\u001b[1;33m             \u001b[0m_\u001b[0m\u001b[1;33m,\u001b[0m\u001b[0ml\u001b[0m \u001b[1;33m=\u001b[0m \u001b[0msess\u001b[0m\u001b[1;33m.\u001b[0m\u001b[0mrun\u001b[0m\u001b[1;33m(\u001b[0m\u001b[1;33m[\u001b[0m\u001b[0moptimizer\u001b[0m\u001b[1;33m,\u001b[0m \u001b[0mloss\u001b[0m\u001b[1;33m]\u001b[0m\u001b[1;33m,\u001b[0m \u001b[1;33m{\u001b[0m\u001b[0mX\u001b[0m\u001b[1;33m:\u001b[0m\u001b[0mperson1\u001b[0m\u001b[1;33m,\u001b[0m \u001b[0mY\u001b[0m\u001b[1;33m:\u001b[0m\u001b[0mperson2\u001b[0m\u001b[1;33m,\u001b[0m \u001b[0mh_in\u001b[0m\u001b[1;33m:\u001b[0m \u001b[0mnp\u001b[0m\u001b[1;33m.\u001b[0m\u001b[0mzeros\u001b[0m\u001b[1;33m(\u001b[0m\u001b[1;33m(\u001b[0m\u001b[0mbatch_size\u001b[0m\u001b[1;33m,\u001b[0m \u001b[0mhidden_shape\u001b[0m\u001b[1;33m)\u001b[0m\u001b[1;33m)\u001b[0m\u001b[1;33m}\u001b[0m\u001b[1;33m)\u001b[0m\u001b[1;33m\u001b[0m\u001b[0m\n\u001b[0m\u001b[0;32m     98\u001b[0m             \u001b[1;32mif\u001b[0m \u001b[0mi\u001b[0m\u001b[1;33m%\u001b[0m\u001b[1;36m1000\u001b[0m \u001b[1;33m==\u001b[0m \u001b[1;36m0\u001b[0m\u001b[1;33m:\u001b[0m\u001b[1;33m\u001b[0m\u001b[0m\n\u001b[0;32m     99\u001b[0m                 \u001b[0mprint\u001b[0m\u001b[1;33m(\u001b[0m\u001b[0ml\u001b[0m\u001b[1;33m)\u001b[0m\u001b[1;33m\u001b[0m\u001b[0m\n",
      "\u001b[1;32m/home/shivam/anaconda3/lib/python3.5/site-packages/tensorflow/python/client/session.py\u001b[0m in \u001b[0;36mrun\u001b[1;34m(self, fetches, feed_dict, options, run_metadata)\u001b[0m\n\u001b[0;32m    765\u001b[0m     \u001b[1;32mtry\u001b[0m\u001b[1;33m:\u001b[0m\u001b[1;33m\u001b[0m\u001b[0m\n\u001b[0;32m    766\u001b[0m       result = self._run(None, fetches, feed_dict, options_ptr,\n\u001b[1;32m--> 767\u001b[1;33m                          run_metadata_ptr)\n\u001b[0m\u001b[0;32m    768\u001b[0m       \u001b[1;32mif\u001b[0m \u001b[0mrun_metadata\u001b[0m\u001b[1;33m:\u001b[0m\u001b[1;33m\u001b[0m\u001b[0m\n\u001b[0;32m    769\u001b[0m         \u001b[0mproto_data\u001b[0m \u001b[1;33m=\u001b[0m \u001b[0mtf_session\u001b[0m\u001b[1;33m.\u001b[0m\u001b[0mTF_GetBuffer\u001b[0m\u001b[1;33m(\u001b[0m\u001b[0mrun_metadata_ptr\u001b[0m\u001b[1;33m)\u001b[0m\u001b[1;33m\u001b[0m\u001b[0m\n",
      "\u001b[1;32m/home/shivam/anaconda3/lib/python3.5/site-packages/tensorflow/python/client/session.py\u001b[0m in \u001b[0;36m_run\u001b[1;34m(self, handle, fetches, feed_dict, options, run_metadata)\u001b[0m\n\u001b[0;32m    963\u001b[0m     \u001b[1;32mif\u001b[0m \u001b[0mfinal_fetches\u001b[0m \u001b[1;32mor\u001b[0m \u001b[0mfinal_targets\u001b[0m\u001b[1;33m:\u001b[0m\u001b[1;33m\u001b[0m\u001b[0m\n\u001b[0;32m    964\u001b[0m       results = self._do_run(handle, final_targets, final_fetches,\n\u001b[1;32m--> 965\u001b[1;33m                              feed_dict_string, options, run_metadata)\n\u001b[0m\u001b[0;32m    966\u001b[0m     \u001b[1;32melse\u001b[0m\u001b[1;33m:\u001b[0m\u001b[1;33m\u001b[0m\u001b[0m\n\u001b[0;32m    967\u001b[0m       \u001b[0mresults\u001b[0m \u001b[1;33m=\u001b[0m \u001b[1;33m[\u001b[0m\u001b[1;33m]\u001b[0m\u001b[1;33m\u001b[0m\u001b[0m\n",
      "\u001b[1;32m/home/shivam/anaconda3/lib/python3.5/site-packages/tensorflow/python/client/session.py\u001b[0m in \u001b[0;36m_do_run\u001b[1;34m(self, handle, target_list, fetch_list, feed_dict, options, run_metadata)\u001b[0m\n\u001b[0;32m   1013\u001b[0m     \u001b[1;32mif\u001b[0m \u001b[0mhandle\u001b[0m \u001b[1;32mis\u001b[0m \u001b[1;32mNone\u001b[0m\u001b[1;33m:\u001b[0m\u001b[1;33m\u001b[0m\u001b[0m\n\u001b[0;32m   1014\u001b[0m       return self._do_call(_run_fn, self._session, feed_dict, fetch_list,\n\u001b[1;32m-> 1015\u001b[1;33m                            target_list, options, run_metadata)\n\u001b[0m\u001b[0;32m   1016\u001b[0m     \u001b[1;32melse\u001b[0m\u001b[1;33m:\u001b[0m\u001b[1;33m\u001b[0m\u001b[0m\n\u001b[0;32m   1017\u001b[0m       return self._do_call(_prun_fn, self._session, handle, feed_dict,\n",
      "\u001b[1;32m/home/shivam/anaconda3/lib/python3.5/site-packages/tensorflow/python/client/session.py\u001b[0m in \u001b[0;36m_do_call\u001b[1;34m(self, fn, *args)\u001b[0m\n\u001b[0;32m   1020\u001b[0m   \u001b[1;32mdef\u001b[0m \u001b[0m_do_call\u001b[0m\u001b[1;33m(\u001b[0m\u001b[0mself\u001b[0m\u001b[1;33m,\u001b[0m \u001b[0mfn\u001b[0m\u001b[1;33m,\u001b[0m \u001b[1;33m*\u001b[0m\u001b[0margs\u001b[0m\u001b[1;33m)\u001b[0m\u001b[1;33m:\u001b[0m\u001b[1;33m\u001b[0m\u001b[0m\n\u001b[0;32m   1021\u001b[0m     \u001b[1;32mtry\u001b[0m\u001b[1;33m:\u001b[0m\u001b[1;33m\u001b[0m\u001b[0m\n\u001b[1;32m-> 1022\u001b[1;33m       \u001b[1;32mreturn\u001b[0m \u001b[0mfn\u001b[0m\u001b[1;33m(\u001b[0m\u001b[1;33m*\u001b[0m\u001b[0margs\u001b[0m\u001b[1;33m)\u001b[0m\u001b[1;33m\u001b[0m\u001b[0m\n\u001b[0m\u001b[0;32m   1023\u001b[0m     \u001b[1;32mexcept\u001b[0m \u001b[0merrors\u001b[0m\u001b[1;33m.\u001b[0m\u001b[0mOpError\u001b[0m \u001b[1;32mas\u001b[0m \u001b[0me\u001b[0m\u001b[1;33m:\u001b[0m\u001b[1;33m\u001b[0m\u001b[0m\n\u001b[0;32m   1024\u001b[0m       \u001b[0mmessage\u001b[0m \u001b[1;33m=\u001b[0m \u001b[0mcompat\u001b[0m\u001b[1;33m.\u001b[0m\u001b[0mas_text\u001b[0m\u001b[1;33m(\u001b[0m\u001b[0me\u001b[0m\u001b[1;33m.\u001b[0m\u001b[0mmessage\u001b[0m\u001b[1;33m)\u001b[0m\u001b[1;33m\u001b[0m\u001b[0m\n",
      "\u001b[1;32m/home/shivam/anaconda3/lib/python3.5/site-packages/tensorflow/python/client/session.py\u001b[0m in \u001b[0;36m_run_fn\u001b[1;34m(session, feed_dict, fetch_list, target_list, options, run_metadata)\u001b[0m\n\u001b[0;32m   1002\u001b[0m         return tf_session.TF_Run(session, options,\n\u001b[0;32m   1003\u001b[0m                                  \u001b[0mfeed_dict\u001b[0m\u001b[1;33m,\u001b[0m \u001b[0mfetch_list\u001b[0m\u001b[1;33m,\u001b[0m \u001b[0mtarget_list\u001b[0m\u001b[1;33m,\u001b[0m\u001b[1;33m\u001b[0m\u001b[0m\n\u001b[1;32m-> 1004\u001b[1;33m                                  status, run_metadata)\n\u001b[0m\u001b[0;32m   1005\u001b[0m \u001b[1;33m\u001b[0m\u001b[0m\n\u001b[0;32m   1006\u001b[0m     \u001b[1;32mdef\u001b[0m \u001b[0m_prun_fn\u001b[0m\u001b[1;33m(\u001b[0m\u001b[0msession\u001b[0m\u001b[1;33m,\u001b[0m \u001b[0mhandle\u001b[0m\u001b[1;33m,\u001b[0m \u001b[0mfeed_dict\u001b[0m\u001b[1;33m,\u001b[0m \u001b[0mfetch_list\u001b[0m\u001b[1;33m)\u001b[0m\u001b[1;33m:\u001b[0m\u001b[1;33m\u001b[0m\u001b[0m\n",
      "\u001b[1;31mKeyboardInterrupt\u001b[0m: "
     ]
    }
   ],
   "source": [
    "tf.reset_default_graph()\n",
    "with tf.Graph().as_default() as graph:\n",
    "    \n",
    "    X = tf.placeholder(shape=[None,seq_len], dtype=tf.int32, name=\"input\")\n",
    "    Y = tf.placeholder(shape=[None,seq_len], dtype=tf.int32, name=\"target\")\n",
    "    embed = tf.constant(vec, name=\"embeddings\", dtype=tf.float64)\n",
    "    X_embed = tf.nn.embedding_lookup(embed, X, name=\"input_embeddings\")\n",
    "    X_embed = tf.transpose(X_embed, perm=[1,0,2])\n",
    "    Y_embed = tf.nn.embedding_lookup(embed, Y, name=\"input_embeddings\")\n",
    "    h_in = tf.placeholder(shape=[None, hidden_shape], dtype=tf.float64)\n",
    "    \n",
    "    def RNN(x_t, h_prev):\n",
    "        with tf.variable_scope('RNN'):\n",
    "            \n",
    "            W_xh = tf.get_variable(name=\"W_xh\", shape=[input_shape, hidden_shape], \n",
    "                                   initializer=tf.random_normal_initializer(mean=0.0, \n",
    "                                                                            stddev=0.1), \n",
    "                                   dtype=tf.float64)\n",
    "            \n",
    "            W_hh = tf.get_variable(name=\"W_hh\", shape=[hidden_shape, hidden_shape], \n",
    "                                   initializer=tf.random_normal_initializer(mean=0.0, \n",
    "                                                                            stddev=0.1), \n",
    "                                   dtype=tf.float64)\n",
    "            \n",
    "            W_yh = tf.get_variable(name=\"W_yh\", shape=[hidden_shape, output_shape], \n",
    "                                   initializer=tf.random_normal_initializer(mean=0.0, \n",
    "                                                                            stddev=0.1), \n",
    "                                   dtype=tf.float64)\n",
    "            \n",
    "            h_t = tf.tanh(tf.matmul(x_t, W_xh) + tf.matmul(h_prev, W_hh))\n",
    "            \n",
    "            y_t = tf.nn.softmax(tf.matmul(h_t, W_yh), name=\"output\")\n",
    "            \n",
    "            h_t = tf.reshape(h_t, shape=[-1, hidden_shape])\n",
    "            \n",
    "            return [h_t, y_t]\n",
    "    \n",
    "    def encoder_helper(h_prev, x_t):\n",
    "        with tf.variable_scope(\"encoder_helper\"):\n",
    "            \n",
    "            h_t,_ = RNN(x_t, h_prev)\n",
    "            \n",
    "            return h_t\n",
    "    \n",
    "    def encoder(inputs, h_in):\n",
    "        with tf.variable_scope(\"encoder\"):\n",
    "            \n",
    "            out_encoder = tf.scan(encoder_helper, inputs, initializer=h_in, name='encoder_output')\n",
    "            \n",
    "            return out_encoder[-1]\n",
    "    \n",
    "    def decoder_helper(inputs, x_t):\n",
    "        with tf.variable_scope(\"decoder_helper\"):\n",
    "                        \n",
    "            h_prev, y_prev = inputs[0], inputs[1]\n",
    "            \n",
    "            y_prev = tf.reshape(y_prev, [-1, input_shape])\n",
    "            \n",
    "            h_prev = tf.reshape(h_prev, shape=[-1, hidden_shape])\n",
    "            \n",
    "            h_t, y_t = RNN(y_prev, h_prev)\n",
    "\n",
    "            outputs = [h_t, y_t]\n",
    "            \n",
    "            return outputs\n",
    "    \n",
    "    def decoder(inputs, h_in):\n",
    "        with tf.variable_scope('decoder'):\n",
    "            \n",
    "            out_decoder = tf.scan(decoder_helper, X_embed, initializer=[inputs, h_in])\n",
    "            \n",
    "            return out_decoder[1]\n",
    "    \n",
    "    encoder_output = encoder(X_embed, h_in)\n",
    "    \n",
    "    W_y = tf.get_variable(name=\"W_y\", shape=[hidden_shape, output_shape], \n",
    "                          initializer=tf.random_normal_initializer(mean=0.0, \n",
    "                                                                   stddev=0.1), \n",
    "                          dtype=tf.float64)\n",
    "    \n",
    "    dec_in = tf.nn.softmax(tf.matmul(encoder_output, W_y), name='decoder_input')\n",
    "    \n",
    "    decoder_output = decoder(encoder_output, dec_in)\n",
    "    \n",
    "    seq_output = tf.transpose(decoder_output, perm=[1, 0, 2])\n",
    "    \n",
    "    with tf.name_scope('loss'):\n",
    "        loss = tf.reduce_mean(tf.nn.softmax_cross_entropy_with_logits(labels=Y_embed, \n",
    "                                                                      logits=seq_output))\n",
    "    \n",
    "    with tf.name_scope('train'):\n",
    "        optimizer = tf.train.AdamOptimizer(learning_rate).minimize(loss)\n",
    "    \n",
    "    output = tf.argmax(decoder_output, axis=2)\n",
    "    \n",
    "    with tf.Session() as sess:\n",
    "        sess.run(tf.global_variables_initializer())\n",
    "        sess.run(tf.local_variables_initializer())\n",
    "        \n",
    "        for i in range(10001):\n",
    "            \n",
    "            _,l = sess.run([optimizer, loss], \n",
    "                           {X:person1, \n",
    "                            Y:person2, \n",
    "                            h_in: np.zeros((batch_size, hidden_shape))})\n",
    "            \n",
    "            if i%1000 == 0:\n",
    "                print(l)\n",
    "            \n",
    "            if i%5000 == 0:\n",
    "                pred = sess.run(output, {X:person1, Y:person2, h_in: np.zeros((batch_size, hidden_shape))})\n",
    "                for j in range(batch_size):\n",
    "                    print(\"person1 : \", [[id_to_word[w] for w in sent] for sent in person1][j])\n",
    "                    print(\"person2 : \", [[id_to_word[w] for w in sent] for sent in pred.T][j])\n",
    "                    print(\"====================================================\")\n",
    "                    \n",
    "        \n",
    "        out = sess.run(output, {X:a, Y:person2, h_in: np.zeros((1, hidden_shape))})\n",
    "        print(\"personA : \", [[id_to_word[w] for w in sent] for sent in a])\n",
    "        print(\"bot     : \", [[id_to_word[w] for w in sent] for sent in out.T])\n",
    "        writer = tf.summary.FileWriter('tmp/1')\n",
    "        writer.add_graph(sess.graph)"
   ]
  },
  {
   "cell_type": "code",
   "execution_count": 20,
   "metadata": {
    "collapsed": false
   },
   "outputs": [
    {
     "name": "stdout",
     "output_type": "stream",
     "text": [
      "Starting TensorBoard b'41' on port 6006\n",
      "(You can navigate to http://127.0.1.1:6006)\n",
      "^CTraceback (most recent call last):\n",
      "  File \"/home/shivam/anaconda3/bin/tensorboard\", line 11, in <module>\n",
      "    sys.exit(main())\n",
      "  File \"/home/shivam/anaconda3/lib/python3.5/site-packages/tensorflow/tensorboard/tensorboard.py\", line 151, in main\n",
      "    tb_server.serve_forever()\n",
      "  File \"/home/shivam/anaconda3/lib/python3.5/socketserver.py\", line 232, in serve_forever\n",
      "    ready = selector.select(poll_interval)\n",
      "  File \"/home/shivam/anaconda3/lib/python3.5/selectors.py\", line 376, in select\n",
      "    fd_event_list = self._poll.poll(timeout)\n",
      "KeyboardInterrupt\n",
      "\n"
     ]
    }
   ],
   "source": [
    "! tensorboard --logdir ./tmp/1"
   ]
  },
  {
   "cell_type": "code",
   "execution_count": null,
   "metadata": {
    "collapsed": true
   },
   "outputs": [],
   "source": []
  }
 ],
 "metadata": {
  "kernelspec": {
   "display_name": "Python 3",
   "language": "python",
   "name": "python3"
  },
  "language_info": {
   "codemirror_mode": {
    "name": "ipython",
    "version": 3
   },
   "file_extension": ".py",
   "mimetype": "text/x-python",
   "name": "python",
   "nbconvert_exporter": "python",
   "pygments_lexer": "ipython3",
   "version": "3.5.2"
  }
 },
 "nbformat": 4,
 "nbformat_minor": 0
}
