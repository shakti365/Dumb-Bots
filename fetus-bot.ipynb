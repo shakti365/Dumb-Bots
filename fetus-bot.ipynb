{
 "cells": [
  {
   "cell_type": "markdown",
   "metadata": {},
   "source": [
    "# RNN bot"
   ]
  },
  {
   "cell_type": "code",
   "execution_count": 1,
   "metadata": {
    "collapsed": true
   },
   "outputs": [],
   "source": [
    "import numpy as np\n",
    "import tensorflow as tf"
   ]
  },
  {
   "cell_type": "code",
   "execution_count": 2,
   "metadata": {
    "collapsed": true
   },
   "outputs": [],
   "source": [
    "sentences = [['hi'],\n",
    "             ['hello'],\n",
    "             ['hi', 'there', 'how', 'are', 'you'],\n",
    "             ['i', 'am', 'fine', 'how', 'do', 'you', 'do'],\n",
    "             ['i', 'am', 'doing', 'fine'],\n",
    "             ['what', 'is', 'your', 'name'],\n",
    "             ['hi', 'my', 'name', 'is', 'strange'],\n",
    "             ['that', 'is', 'indeed', 'strange'],\n",
    "             ['hello', 'darkness', 'my', 'old', 'friend'],\n",
    "             ['darkness', 'is', 'strange']]"
   ]
  },
  {
   "cell_type": "code",
   "execution_count": 3,
   "metadata": {
    "collapsed": false
   },
   "outputs": [],
   "source": [
    "person1 = []\n",
    "person2 = []\n",
    "for i in range(len(sentences)):\n",
    "    if i%2 == 0:\n",
    "        person1.append(sentences[i])\n",
    "    else:\n",
    "        person2.append(sentences[i])"
   ]
  },
  {
   "cell_type": "code",
   "execution_count": 4,
   "metadata": {
    "collapsed": false
   },
   "outputs": [
    {
     "data": {
      "text/plain": [
       "[['hi'],\n",
       " ['hi', 'there', 'how', 'are', 'you'],\n",
       " ['i', 'am', 'doing', 'fine'],\n",
       " ['hi', 'my', 'name', 'is', 'strange'],\n",
       " ['hello', 'darkness', 'my', 'old', 'friend']]"
      ]
     },
     "execution_count": 4,
     "metadata": {},
     "output_type": "execute_result"
    }
   ],
   "source": [
    "person1"
   ]
  },
  {
   "cell_type": "code",
   "execution_count": 5,
   "metadata": {
    "collapsed": false
   },
   "outputs": [
    {
     "data": {
      "text/plain": [
       "[['hello'],\n",
       " ['i', 'am', 'fine', 'how', 'do', 'you', 'do'],\n",
       " ['what', 'is', 'your', 'name'],\n",
       " ['that', 'is', 'indeed', 'strange'],\n",
       " ['darkness', 'is', 'strange']]"
      ]
     },
     "execution_count": 5,
     "metadata": {},
     "output_type": "execute_result"
    }
   ],
   "source": [
    "person2"
   ]
  },
  {
   "cell_type": "code",
   "execution_count": 6,
   "metadata": {
    "collapsed": true
   },
   "outputs": [],
   "source": [
    "words = []\n",
    "[[words.append(w) for w in sent] for sent in sentences];\n",
    "vocab = list(set(words))\n",
    "vocab_size = len(vocab)"
   ]
  },
  {
   "cell_type": "code",
   "execution_count": 7,
   "metadata": {
    "collapsed": false
   },
   "outputs": [
    {
     "data": {
      "text/plain": [
       "22"
      ]
     },
     "execution_count": 7,
     "metadata": {},
     "output_type": "execute_result"
    }
   ],
   "source": [
    "vocab_size"
   ]
  },
  {
   "cell_type": "code",
   "execution_count": 8,
   "metadata": {
    "collapsed": false
   },
   "outputs": [],
   "source": [
    "id_to_word = dict(enumerate(vocab))\n",
    "word_to_id = {v:k for k,v in id_to_word.items()}"
   ]
  },
  {
   "cell_type": "code",
   "execution_count": 9,
   "metadata": {
    "collapsed": true
   },
   "outputs": [],
   "source": [
    "id_to_word[22] = ''"
   ]
  },
  {
   "cell_type": "code",
   "execution_count": 10,
   "metadata": {
    "collapsed": true
   },
   "outputs": [],
   "source": [
    "seq_len = max([len(s) for s in sentences])"
   ]
  },
  {
   "cell_type": "code",
   "execution_count": 11,
   "metadata": {
    "collapsed": false
   },
   "outputs": [
    {
     "data": {
      "text/plain": [
       "7"
      ]
     },
     "execution_count": 11,
     "metadata": {},
     "output_type": "execute_result"
    }
   ],
   "source": [
    "seq_len"
   ]
  },
  {
   "cell_type": "code",
   "execution_count": 12,
   "metadata": {
    "collapsed": false
   },
   "outputs": [],
   "source": [
    "for i in range(len(person1)):\n",
    "    person1[i] = [word_to_id[w] for w in person1[i]] + [vocab_size] * (seq_len - len(person1[i]))\n",
    "    person2[i] = [word_to_id[w] for w in person2[i]] + [vocab_size] * (seq_len - len(person2[i]))"
   ]
  },
  {
   "cell_type": "code",
   "execution_count": 13,
   "metadata": {
    "collapsed": true
   },
   "outputs": [],
   "source": [
    "person1 = np.array(person1)"
   ]
  },
  {
   "cell_type": "code",
   "execution_count": 14,
   "metadata": {
    "collapsed": true
   },
   "outputs": [],
   "source": [
    "person2 = np.array(person2)"
   ]
  },
  {
   "cell_type": "code",
   "execution_count": 15,
   "metadata": {
    "collapsed": true
   },
   "outputs": [],
   "source": [
    "vec = np.zeros((vocab_size+1, vocab_size+1), dtype=np.float64)\n",
    "for i in range(vocab_size+1):\n",
    "    vec[i,i] = 1.0"
   ]
  },
  {
   "cell_type": "code",
   "execution_count": 16,
   "metadata": {
    "collapsed": false
   },
   "outputs": [],
   "source": [
    "input_shape = output_shape = vocab_size+1\n",
    "hidden_shape = 64\n",
    "learning_rate = 0.001\n",
    "batch_size = person1.shape[0]"
   ]
  },
  {
   "cell_type": "code",
   "execution_count": 17,
   "metadata": {
    "collapsed": false
   },
   "outputs": [
    {
     "data": {
      "text/plain": [
       "{'am': 11,\n",
       " 'are': 3,\n",
       " 'darkness': 7,\n",
       " 'do': 14,\n",
       " 'doing': 2,\n",
       " 'fine': 19,\n",
       " 'friend': 13,\n",
       " 'hello': 9,\n",
       " 'hi': 17,\n",
       " 'how': 18,\n",
       " 'i': 0,\n",
       " 'indeed': 8,\n",
       " 'is': 20,\n",
       " 'my': 1,\n",
       " 'name': 4,\n",
       " 'old': 10,\n",
       " 'strange': 16,\n",
       " 'that': 5,\n",
       " 'there': 12,\n",
       " 'what': 15,\n",
       " 'you': 6,\n",
       " 'your': 21}"
      ]
     },
     "execution_count": 17,
     "metadata": {},
     "output_type": "execute_result"
    }
   ],
   "source": [
    "word_to_id"
   ]
  },
  {
   "cell_type": "code",
   "execution_count": 19,
   "metadata": {
    "collapsed": false
   },
   "outputs": [
    {
     "data": {
      "text/plain": [
       "['hi', 'how', 'are', 'you', '', '', '']"
      ]
     },
     "execution_count": 19,
     "metadata": {},
     "output_type": "execute_result"
    }
   ],
   "source": [
    "a = np.array([[17, 18, 3, 6, 22, 22, 22]])\n",
    "[id_to_word[i] for i in a[0]]"
   ]
  },
  {
   "cell_type": "code",
   "execution_count": 20,
   "metadata": {
    "collapsed": false
   },
   "outputs": [
    {
     "name": "stdout",
     "output_type": "stream",
     "text": [
      "3.13529483358\n",
      "person1 :  ['hi', '', '', '', '', '', '']\n",
      "person2 :  ['you', 'am', 'do', 'your', 'that', 'your', 'your']\n",
      "====================================================\n",
      "person1 :  ['hi', 'there', 'how', 'are', 'you', '', '']\n",
      "person2 :  ['i', 'i', 'that', 'my', 'your', 'that', 'your']\n",
      "====================================================\n",
      "person1 :  ['i', 'am', 'doing', 'fine', '', '', '']\n",
      "person2 :  ['your', 'am', 'do', 'your', 'that', 'your', 'your']\n",
      "====================================================\n",
      "person1 :  ['hi', 'my', 'name', 'is', 'strange', '', '']\n",
      "person2 :  ['i', 'your', 'that', 'your', 'that', 'your', 'your']\n",
      "====================================================\n",
      "person1 :  ['hello', 'darkness', 'my', 'old', 'friend', '', '']\n",
      "person2 :  ['do', 'your', 'that', 'your', 'that', 'your', 'is']\n",
      "====================================================\n",
      "2.20803045452\n",
      "2.20767730939\n",
      "2.20760064391\n",
      "2.20757211319\n",
      "2.20755890692\n",
      "person1 :  ['hi', '', '', '', '', '', '']\n",
      "person2 :  ['hello', '', '', '', '', '', '']\n",
      "====================================================\n",
      "person1 :  ['hi', 'there', 'how', 'are', 'you', '', '']\n",
      "person2 :  ['i', 'am', 'fine', 'how', 'do', 'you', 'do']\n",
      "====================================================\n",
      "person1 :  ['i', 'am', 'doing', 'fine', '', '', '']\n",
      "person2 :  ['what', 'is', 'your', 'name', '', '', '']\n",
      "====================================================\n",
      "person1 :  ['hi', 'my', 'name', 'is', 'strange', '', '']\n",
      "person2 :  ['that', 'is', 'indeed', 'strange', '', '', '']\n",
      "====================================================\n",
      "person1 :  ['hello', 'darkness', 'my', 'old', 'friend', '', '']\n",
      "person2 :  ['darkness', 'is', 'strange', '', '', '', '']\n",
      "====================================================\n",
      "2.20755207641\n",
      "2.20754831916\n",
      "2.20754617684\n",
      "2.20754492866\n",
      "2.20754419483\n",
      "person1 :  ['hi', '', '', '', '', '', '']\n",
      "person2 :  ['hello', '', '', '', '', '', '']\n",
      "====================================================\n",
      "person1 :  ['hi', 'there', 'how', 'are', 'you', '', '']\n",
      "person2 :  ['i', 'am', 'fine', 'how', 'do', 'you', 'do']\n",
      "====================================================\n",
      "person1 :  ['i', 'am', 'doing', 'fine', '', '', '']\n",
      "person2 :  ['what', 'is', 'your', 'name', '', '', '']\n",
      "====================================================\n",
      "person1 :  ['hi', 'my', 'name', 'is', 'strange', '', '']\n",
      "person2 :  ['that', 'is', 'indeed', 'strange', '', '', '']\n",
      "====================================================\n",
      "person1 :  ['hello', 'darkness', 'my', 'old', 'friend', '', '']\n",
      "person2 :  ['darkness', 'is', 'strange', '', '', '', '']\n",
      "====================================================\n",
      "personA :  [['hi', 'how', 'are', 'you', '', '', '']]\n",
      "bot     :  [['i', 'am', 'fine', 'how', 'do', 'you', 'do']]\n"
     ]
    }
   ],
   "source": [
    "tf.reset_default_graph()\n",
    "with tf.Graph().as_default() as graph:\n",
    "    \n",
    "    X = tf.placeholder(shape=[None,seq_len], dtype=tf.int32, name=\"input\")\n",
    "    Y = tf.placeholder(shape=[None,seq_len], dtype=tf.int32, name=\"target\")\n",
    "    embed = tf.constant(vec, name=\"embeddings\", dtype=tf.float64)\n",
    "    X_embed = tf.nn.embedding_lookup(embed, X, name=\"input_embeddings\")\n",
    "    X_embed = tf.transpose(X_embed, perm=[1,0,2])\n",
    "    Y_embed = tf.nn.embedding_lookup(embed, Y, name=\"input_embeddings\")\n",
    "    h_in = tf.placeholder(shape=[None, hidden_shape], dtype=tf.float64)\n",
    "    \n",
    "    def RNN(x_t, h_prev):\n",
    "        with tf.variable_scope('RNN'):\n",
    "            \n",
    "            W_xh = tf.get_variable(name=\"W_xh\", shape=[input_shape, hidden_shape], \n",
    "                                   initializer=tf.random_normal_initializer(mean=0.0, \n",
    "                                                                            stddev=0.1), \n",
    "                                   dtype=tf.float64)\n",
    "            \n",
    "            W_hh = tf.get_variable(name=\"W_hh\", shape=[hidden_shape, hidden_shape], \n",
    "                                   initializer=tf.random_normal_initializer(mean=0.0, \n",
    "                                                                            stddev=0.1), \n",
    "                                   dtype=tf.float64)\n",
    "            \n",
    "            W_yh = tf.get_variable(name=\"W_yh\", shape=[hidden_shape, output_shape], \n",
    "                                   initializer=tf.random_normal_initializer(mean=0.0, \n",
    "                                                                            stddev=0.1), \n",
    "                                   dtype=tf.float64)\n",
    "            \n",
    "            h_t = tf.tanh(tf.matmul(x_t, W_xh) + tf.matmul(h_prev, W_hh))\n",
    "            \n",
    "            y_t = tf.nn.softmax(tf.matmul(h_t, W_yh), name=\"output\")\n",
    "            \n",
    "            h_t = tf.reshape(h_t, shape=[-1, hidden_shape])\n",
    "            \n",
    "            return [h_t, y_t]\n",
    "    \n",
    "    def encoder_helper(h_prev, x_t):\n",
    "        with tf.variable_scope(\"encoder_helper\"):\n",
    "            \n",
    "            h_t, _ = RNN(x_t, h_prev)\n",
    "            \n",
    "            return h_t    \n",
    "    \n",
    "    def encoder(inputs, h_in):\n",
    "        with tf.variable_scope(\"encoder\"):\n",
    "            \n",
    "            out_encoder = tf.scan(encoder_helper, \n",
    "                                  inputs, \n",
    "                                  initializer=h_in)\n",
    "            \n",
    "            return out_encoder[-1]\n",
    "    \n",
    "    def decoder_helper(inputs, x_t):\n",
    "        with tf.variable_scope(\"decoder_helper\"):\n",
    "                        \n",
    "            h_prev, y_prev = inputs[0], inputs[1]\n",
    "            \n",
    "            y_prev = tf.reshape(y_prev, [-1, input_shape])\n",
    "            \n",
    "            h_prev = tf.reshape(h_prev, shape=[-1, hidden_shape])\n",
    "            \n",
    "            h_t, y_t = RNN(y_prev, h_prev)\n",
    "\n",
    "            outputs = [h_t, y_t]\n",
    "            \n",
    "            return outputs\n",
    "    \n",
    "    def decoder(inputs, h_in):\n",
    "        with tf.variable_scope('decoder'):\n",
    "            \n",
    "            out_decoder = tf.scan(decoder_helper, \n",
    "                                  X_embed, \n",
    "                                  initializer=[inputs, h_in])\n",
    "            \n",
    "            return out_decoder[1]\n",
    "    \n",
    "    encoder_output = encoder(X_embed, h_in)\n",
    "    \n",
    "    W_y = tf.get_variable(name=\"W_y\", shape=[hidden_shape, output_shape], \n",
    "                          initializer=tf.random_normal_initializer(mean=0.0, \n",
    "                                                                   stddev=0.1), \n",
    "                          dtype=tf.float64)\n",
    "    \n",
    "    dec_in = tf.nn.softmax(tf.matmul(encoder_output, W_y), name='decoder_input')\n",
    "    \n",
    "    decoder_output = decoder(encoder_output, dec_in)\n",
    "    \n",
    "    seq_output = tf.transpose(decoder_output, perm=[1, 0, 2])\n",
    "    \n",
    "    with tf.name_scope('loss'):\n",
    "        loss = tf.reduce_mean(tf.nn.softmax_cross_entropy_with_logits(labels=Y_embed, \n",
    "                                                                      logits=seq_output))\n",
    "    \n",
    "    with tf.name_scope('train'):\n",
    "        optimizer = tf.train.AdamOptimizer(learning_rate).minimize(loss)\n",
    "    \n",
    "    output = tf.argmax(decoder_output, axis=2)\n",
    "    \n",
    "    with tf.Session() as sess:\n",
    "        sess.run(tf.global_variables_initializer())\n",
    "        sess.run(tf.local_variables_initializer())\n",
    "        \n",
    "        for i in range(10001):\n",
    "            \n",
    "            _,l = sess.run([optimizer, loss], \n",
    "                           {X:person1, \n",
    "                            Y:person2, \n",
    "                            h_in: np.zeros((batch_size, hidden_shape))})\n",
    "            \n",
    "            if i%1000 == 0:\n",
    "                print(l)\n",
    "            \n",
    "            if i%5000 == 0:\n",
    "                pred = sess.run(output, {X:person1, Y:person2, h_in: np.zeros((batch_size, hidden_shape))})\n",
    "                for j in range(batch_size):\n",
    "                    print(\"person1 : \", [[id_to_word[w] for w in sent] for sent in person1][j])\n",
    "                    print(\"person2 : \", [[id_to_word[w] for w in sent] for sent in pred.T][j])\n",
    "                    print(\"====================================================\")\n",
    "                    \n",
    "        \n",
    "        out = sess.run(output, {X:a, Y:person2, h_in: np.zeros((1, hidden_shape))})\n",
    "        print(\"personA : \", [[id_to_word[w] for w in sent] for sent in a])\n",
    "        print(\"bot     : \", [[id_to_word[w] for w in sent] for sent in out.T])\n",
    "        writer = tf.summary.FileWriter('tmp/1')\n",
    "        writer.add_graph(sess.graph)"
   ]
  },
  {
   "cell_type": "code",
   "execution_count": 40,
   "metadata": {
    "collapsed": false
   },
   "outputs": [
    {
     "name": "stdout",
     "output_type": "stream",
     "text": [
      "Starting TensorBoard b'41' on port 6006\n",
      "(You can navigate to http://127.0.1.1:6006)\n",
      "WARNING:tensorflow:Found more than one graph event per run, or there was a metagraph containing a graph_def, as well as one or more graph events.  Overwriting the graph with the newest event.\n",
      "WARNING:tensorflow:Found more than one graph event per run, or there was a metagraph containing a graph_def, as well as one or more graph events.  Overwriting the graph with the newest event.\n",
      "^CTraceback (most recent call last):\n",
      "  File \"/home/shivam/anaconda3/bin/tensorboard\", line 11, in <module>\n",
      "    sys.exit(main())\n",
      "  File \"/home/shivam/anaconda3/lib/python3.5/site-packages/tensorflow/tensorboard/tensorboard.py\", line 151, in main\n",
      "    tb_server.serve_forever()\n",
      "  File \"/home/shivam/anaconda3/lib/python3.5/socketserver.py\", line 232, in serve_forever\n",
      "    ready = selector.select(poll_interval)\n",
      "  File \"/home/shivam/anaconda3/lib/python3.5/selectors.py\", line 376, in select\n",
      "    fd_event_list = self._poll.poll(timeout)\n",
      "KeyboardInterrupt\n",
      "\n"
     ]
    }
   ],
   "source": [
    "! tensorboard --logdir ./tmp/1"
   ]
  },
  {
   "cell_type": "code",
   "execution_count": null,
   "metadata": {
    "collapsed": true
   },
   "outputs": [],
   "source": []
  }
 ],
 "metadata": {
  "kernelspec": {
   "display_name": "Python 3",
   "language": "python",
   "name": "python3"
  },
  "language_info": {
   "codemirror_mode": {
    "name": "ipython",
    "version": 3
   },
   "file_extension": ".py",
   "mimetype": "text/x-python",
   "name": "python",
   "nbconvert_exporter": "python",
   "pygments_lexer": "ipython3",
   "version": "3.5.2"
  }
 },
 "nbformat": 4,
 "nbformat_minor": 0
}
