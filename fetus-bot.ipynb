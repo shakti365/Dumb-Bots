{
 "cells": [
  {
   "cell_type": "markdown",
   "metadata": {},
   "source": [
    "# RNN bot"
   ]
  },
  {
   "cell_type": "code",
   "execution_count": 1,
   "metadata": {
    "collapsed": true
   },
   "outputs": [],
   "source": [
    "import numpy as np\n",
    "import tensorflow as tf"
   ]
  },
  {
   "cell_type": "code",
   "execution_count": 2,
   "metadata": {
    "collapsed": true
   },
   "outputs": [],
   "source": [
    "sentences = [['hi'],\n",
    "             ['hello'],\n",
    "             ['hi', 'there', 'how', 'are', 'you'],\n",
    "             ['i', 'am', 'fine', 'how', 'do', 'you', 'do'],\n",
    "             ['i', 'am', 'doing', 'fine'],\n",
    "             ['what', 'is', 'your', 'name'],\n",
    "             ['hi', 'my', 'name', 'is', 'strange'],\n",
    "             ['that', 'is', 'indeed', 'strange'],\n",
    "             ['hello', 'darkness', 'my', 'old', 'friend'],\n",
    "             ['darkness', 'is', 'strange']]"
   ]
  },
  {
   "cell_type": "code",
   "execution_count": 3,
   "metadata": {
    "collapsed": false
   },
   "outputs": [],
   "source": [
    "person1 = []\n",
    "person2 = []\n",
    "for i in range(len(sentences)):\n",
    "    if i%2 == 0:\n",
    "        person1.append(sentences[i])\n",
    "    else:\n",
    "        person2.append(sentences[i])"
   ]
  },
  {
   "cell_type": "code",
   "execution_count": 4,
   "metadata": {
    "collapsed": false
   },
   "outputs": [
    {
     "data": {
      "text/plain": [
       "[['hi'],\n",
       " ['hi', 'there', 'how', 'are', 'you'],\n",
       " ['i', 'am', 'doing', 'fine'],\n",
       " ['hi', 'my', 'name', 'is', 'strange'],\n",
       " ['hello', 'darkness', 'my', 'old', 'friend']]"
      ]
     },
     "execution_count": 4,
     "metadata": {},
     "output_type": "execute_result"
    }
   ],
   "source": [
    "person1"
   ]
  },
  {
   "cell_type": "code",
   "execution_count": 5,
   "metadata": {
    "collapsed": false
   },
   "outputs": [
    {
     "data": {
      "text/plain": [
       "[['hello'],\n",
       " ['i', 'am', 'fine', 'how', 'do', 'you', 'do'],\n",
       " ['what', 'is', 'your', 'name'],\n",
       " ['that', 'is', 'indeed', 'strange'],\n",
       " ['darkness', 'is', 'strange']]"
      ]
     },
     "execution_count": 5,
     "metadata": {},
     "output_type": "execute_result"
    }
   ],
   "source": [
    "person2"
   ]
  },
  {
   "cell_type": "code",
   "execution_count": 6,
   "metadata": {
    "collapsed": true
   },
   "outputs": [],
   "source": [
    "words = []\n",
    "[[words.append(w) for w in sent] for sent in sentences];\n",
    "vocab = list(set(words))\n",
    "vocab_size = len(vocab)"
   ]
  },
  {
   "cell_type": "code",
   "execution_count": 7,
   "metadata": {
    "collapsed": false
   },
   "outputs": [
    {
     "data": {
      "text/plain": [
       "22"
      ]
     },
     "execution_count": 7,
     "metadata": {},
     "output_type": "execute_result"
    }
   ],
   "source": [
    "vocab_size"
   ]
  },
  {
   "cell_type": "code",
   "execution_count": 8,
   "metadata": {
    "collapsed": false
   },
   "outputs": [],
   "source": [
    "id_to_word = dict(enumerate(vocab))\n",
    "word_to_id = {v:k for k,v in id_to_word.items()}"
   ]
  },
  {
   "cell_type": "code",
   "execution_count": 9,
   "metadata": {
    "collapsed": true
   },
   "outputs": [],
   "source": [
    "id_to_word[22] = ''"
   ]
  },
  {
   "cell_type": "code",
   "execution_count": 10,
   "metadata": {
    "collapsed": true
   },
   "outputs": [],
   "source": [
    "seq_len = max([len(s) for s in sentences])"
   ]
  },
  {
   "cell_type": "code",
   "execution_count": 11,
   "metadata": {
    "collapsed": false
   },
   "outputs": [
    {
     "data": {
      "text/plain": [
       "7"
      ]
     },
     "execution_count": 11,
     "metadata": {},
     "output_type": "execute_result"
    }
   ],
   "source": [
    "seq_len"
   ]
  },
  {
   "cell_type": "code",
   "execution_count": 12,
   "metadata": {
    "collapsed": false
   },
   "outputs": [],
   "source": [
    "for i in range(len(person1)):\n",
    "    person1[i] = [word_to_id[w] for w in person1[i]] + [vocab_size] * (seq_len - len(person1[i]))\n",
    "    person2[i] = [word_to_id[w] for w in person2[i]] + [vocab_size] * (seq_len - len(person2[i]))"
   ]
  },
  {
   "cell_type": "code",
   "execution_count": 13,
   "metadata": {
    "collapsed": true
   },
   "outputs": [],
   "source": [
    "person1 = np.array(person1)"
   ]
  },
  {
   "cell_type": "code",
   "execution_count": 14,
   "metadata": {
    "collapsed": true
   },
   "outputs": [],
   "source": [
    "person2 = np.array(person2)"
   ]
  },
  {
   "cell_type": "code",
   "execution_count": 15,
   "metadata": {
    "collapsed": true
   },
   "outputs": [],
   "source": [
    "vec = np.zeros((vocab_size+1, vocab_size+1), dtype=np.float64)\n",
    "for i in range(vocab_size+1):\n",
    "    vec[i,i] = 1.0"
   ]
  },
  {
   "cell_type": "code",
   "execution_count": 16,
   "metadata": {
    "collapsed": false
   },
   "outputs": [],
   "source": [
    "input_shape = output_shape = vocab_size+1\n",
    "hidden_shape = 64\n",
    "learning_rate = 0.001\n",
    "batch_size = person1.shape[0]"
   ]
  },
  {
   "cell_type": "code",
   "execution_count": 17,
   "metadata": {
    "collapsed": false
   },
   "outputs": [
    {
     "data": {
      "text/plain": [
       "{'am': 18,\n",
       " 'are': 19,\n",
       " 'darkness': 8,\n",
       " 'do': 12,\n",
       " 'doing': 5,\n",
       " 'fine': 3,\n",
       " 'friend': 20,\n",
       " 'hello': 11,\n",
       " 'hi': 13,\n",
       " 'how': 7,\n",
       " 'i': 14,\n",
       " 'indeed': 6,\n",
       " 'is': 2,\n",
       " 'my': 9,\n",
       " 'name': 0,\n",
       " 'old': 21,\n",
       " 'strange': 17,\n",
       " 'that': 10,\n",
       " 'there': 15,\n",
       " 'what': 16,\n",
       " 'you': 1,\n",
       " 'your': 4}"
      ]
     },
     "execution_count": 17,
     "metadata": {},
     "output_type": "execute_result"
    }
   ],
   "source": [
    "word_to_id"
   ]
  },
  {
   "cell_type": "code",
   "execution_count": 18,
   "metadata": {
    "collapsed": false
   },
   "outputs": [
    {
     "data": {
      "text/plain": [
       "['hi', 'how', 'are', 'you', '', '', '']"
      ]
     },
     "execution_count": 18,
     "metadata": {},
     "output_type": "execute_result"
    }
   ],
   "source": [
    "a = np.array([[13, 7, 19, 1, 22, 22, 22]])\n",
    "[id_to_word[i] for i in a[0]]"
   ]
  },
  {
   "cell_type": "code",
   "execution_count": 27,
   "metadata": {
    "collapsed": false
   },
   "outputs": [
    {
     "name": "stdout",
     "output_type": "stream",
     "text": [
      "3.13583732289\n",
      "person1 :  ['hi', '', '', '', '', '', '']\n",
      "person2 :  ['doing', 'hello', 'you', 'how', 'there', 'indeed', 'indeed']\n",
      "====================================================\n",
      "person1 :  ['hi', 'there', 'how', 'are', 'you', '', '']\n",
      "person2 :  ['doing', 'my', 'indeed', 'indeed', 'name', 'name', 'do']\n",
      "====================================================\n",
      "person1 :  ['i', 'am', 'doing', 'fine', '', '', '']\n",
      "person2 :  ['doing', 'my', 'indeed', 'indeed', 'name', 'name', 'do']\n",
      "====================================================\n",
      "person1 :  ['hi', 'my', 'name', 'is', 'strange', '', '']\n",
      "person2 :  ['doing', 'hello', 'you', 'how', 'there', 'indeed', 'indeed']\n",
      "====================================================\n",
      "person1 :  ['hello', 'darkness', 'my', 'old', 'friend', '', '']\n",
      "person2 :  ['doing', 'my', 'indeed', 'indeed', 'name', 'name', 'do']\n",
      "====================================================\n",
      "2.20804327694\n",
      "2.20767953851\n",
      "2.20760142856\n",
      "2.20757246501\n",
      "2.20755908839\n",
      "person1 :  ['hi', '', '', '', '', '', '']\n",
      "person2 :  ['hello', '', '', '', '', '', '']\n",
      "====================================================\n",
      "person1 :  ['hi', 'there', 'how', 'are', 'you', '', '']\n",
      "person2 :  ['i', 'am', 'fine', 'how', 'do', 'you', 'do']\n",
      "====================================================\n",
      "person1 :  ['i', 'am', 'doing', 'fine', '', '', '']\n",
      "person2 :  ['what', 'is', 'your', 'name', '', '', '']\n",
      "====================================================\n",
      "person1 :  ['hi', 'my', 'name', 'is', 'strange', '', '']\n",
      "person2 :  ['that', 'is', 'indeed', 'strange', '', '', '']\n",
      "====================================================\n",
      "person1 :  ['hello', 'darkness', 'my', 'old', 'friend', '', '']\n",
      "person2 :  ['darkness', 'is', 'strange', '', '', '', '']\n",
      "====================================================\n",
      "2.20755218221\n",
      "2.20754838817\n",
      "2.20754622699\n",
      "2.207544969\n",
      "2.2075442271\n",
      "person1 :  ['hi', '', '', '', '', '', '']\n",
      "person2 :  ['hello', '', '', '', '', '', '']\n",
      "====================================================\n",
      "person1 :  ['hi', 'there', 'how', 'are', 'you', '', '']\n",
      "person2 :  ['i', 'am', 'fine', 'how', 'do', 'you', 'do']\n",
      "====================================================\n",
      "person1 :  ['i', 'am', 'doing', 'fine', '', '', '']\n",
      "person2 :  ['what', 'is', 'your', 'name', '', '', '']\n",
      "====================================================\n",
      "person1 :  ['hi', 'my', 'name', 'is', 'strange', '', '']\n",
      "person2 :  ['that', 'is', 'indeed', 'strange', '', '', '']\n",
      "====================================================\n",
      "person1 :  ['hello', 'darkness', 'my', 'old', 'friend', '', '']\n",
      "person2 :  ['darkness', 'is', 'strange', '', '', '', '']\n",
      "====================================================\n",
      "personA :  [['hi', 'how', 'are', 'you', '', '', '']]\n",
      "bot     :  [['i', 'am', 'fine', 'how', 'do', 'you', 'do']]\n"
     ]
    }
   ],
   "source": [
    "tf.reset_default_graph()\n",
    "with tf.Graph().as_default() as graph:\n",
    "    \n",
    "    # placeholders for input and output\n",
    "    X = tf.placeholder(shape=[None,seq_len], dtype=tf.int32, name=\"input\")\n",
    "    Y = tf.placeholder(shape=[None,seq_len], dtype=tf.int32, name=\"target\")\n",
    "    \n",
    "    # embedding tensor\n",
    "    embed = tf.constant(vec, name=\"embeddings\", dtype=tf.float64)\n",
    "    \n",
    "    # input embeddings\n",
    "    X_embed = tf.nn.embedding_lookup(embed, X, name=\"input_embeddings\")\n",
    "    X_embed = tf.transpose(X_embed, perm=[1,0,2])\n",
    "    \n",
    "    # output embeddings\n",
    "    Y_embed = tf.nn.embedding_lookup(embed, Y, name=\"output_embeddings\")\n",
    "    \n",
    "    # initial hidden state\n",
    "    h_in = tf.placeholder(shape=[None, hidden_shape], dtype=tf.float64)\n",
    "    \n",
    "    # RNN Cell\n",
    "    def RNN(x_t, \n",
    "            h_prev, \n",
    "            input_shape=input_shape, \n",
    "            hidden_shape=hidden_shape, \n",
    "            output_shape=output_shape):\n",
    "        with tf.variable_scope('RNN'):\n",
    "            \n",
    "            # RNN input weight\n",
    "            W_xh = tf.get_variable(name=\"W_xh\", shape=[input_shape, hidden_shape], \n",
    "                                   initializer=tf.random_normal_initializer(mean=0.0, \n",
    "                                                                            stddev=0.1), \n",
    "                                   dtype=tf.float64)\n",
    "            \n",
    "            # RNN hidden state weight\n",
    "            W_hh = tf.get_variable(name=\"W_hh\", shape=[hidden_shape, hidden_shape], \n",
    "                                   initializer=tf.random_normal_initializer(mean=0.0, \n",
    "                                                                            stddev=0.1), \n",
    "                                   dtype=tf.float64)\n",
    "            \n",
    "            # RNN output weight\n",
    "            W_yh = tf.get_variable(name=\"W_yh\", shape=[hidden_shape, output_shape], \n",
    "                                   initializer=tf.random_normal_initializer(mean=0.0, \n",
    "                                                                            stddev=0.1), \n",
    "                                   dtype=tf.float64)\n",
    "            \n",
    "            # hidden state\n",
    "            h_t = tf.tanh(tf.matmul(x_t, W_xh) + tf.matmul(h_prev, W_hh))\n",
    "            \n",
    "            # output\n",
    "            y_t = tf.nn.softmax(tf.matmul(h_t, W_yh))\n",
    "            \n",
    "            # reshape hidden state\n",
    "            h_t = tf.reshape(h_t, shape=[-1, hidden_shape])\n",
    "            \n",
    "            y_t = tf.reshape(y_t, shape=[-1, output_shape])\n",
    "            \n",
    "            # return list of hidden state and output\n",
    "            return [h_t, y_t]\n",
    "    \n",
    "    # helper function for encoder\n",
    "    def encoder_helper(h_prev, x_t):\n",
    "        with tf.variable_scope(\"encoder_helper\"):\n",
    "            \n",
    "            # pass current input and previous hidden state to RNN cell\n",
    "            h_t, y_ = RNN(x_t, h_prev)\n",
    "            \n",
    "            # return hidden state\n",
    "            return h_t\n",
    "    \n",
    "    # encoder\n",
    "    def encoder(X_in, h_in):\n",
    "        with tf.variable_scope(\"encoder\"):\n",
    "            # scan encoder helper over inputs \n",
    "            out_encoder = tf.scan(encoder_helper, \n",
    "                                  X_in, \n",
    "                                  initializer=h_in)\n",
    "            \n",
    "            # return last hidden state i.e. thought vector\n",
    "            return out_encoder[-1]\n",
    "    \n",
    "    # helper function for decoder\n",
    "    def decoder_helper(inputs, # a list of previous hidden state and current input i.e. previous output\n",
    "                       x_t): # no use extra variable just to iterate over the decoder\n",
    "        with tf.variable_scope(\"decoder_helper\"):\n",
    "            \n",
    "            # previous hidden state and previous output (i.e softmax probabilities)\n",
    "            h_prev, y_prev, y_prev_one_hot = inputs[0], inputs[1], inputs[2] \n",
    "            \n",
    "            # reshape preious hidden state\n",
    "            h_prev = tf.reshape(h_prev, shape=[-1, hidden_shape])\n",
    "            \n",
    "            # reshape previous output\n",
    "            y_prev = tf.reshape(y_prev_one_hot, [-1, input_shape])\n",
    "            \n",
    "            h_t, y_t = RNN(y_prev_one_hot, h_prev)\n",
    "            \n",
    "            # convert previous output to one hot vectors\n",
    "            y_out = tf.nn.embedding_lookup(embed, tf.argmax(y_t, axis=1))\n",
    "            \n",
    "            outputs = [h_t, y_t, y_out]\n",
    "            \n",
    "            return outputs\n",
    "    \n",
    "    \n",
    "    def decoder(h_in, x_in, x_in_one_hot):\n",
    "        with tf.variable_scope('decoder'):\n",
    "            \n",
    "            out_decoder = tf.scan(decoder_helper, \n",
    "                                  X_embed, \n",
    "                                  initializer=[h_in, x_in, x_in_one_hot])\n",
    "            \n",
    "            return out_decoder[1:]\n",
    "    \n",
    "    # thought vector output from encoder\n",
    "    thought_vector = encoder(X_embed, h_in)\n",
    "    \n",
    "    # weight to calculate encoder output \n",
    "    W_y = tf.get_variable(name=\"W_y\", shape=[hidden_shape, output_shape], \n",
    "                          initializer=tf.random_normal_initializer(mean=0.0, \n",
    "                                                                   stddev=0.1), \n",
    "                          dtype=tf.float64)\n",
    "    \n",
    "    # encoder output\n",
    "    encoder_output = tf.nn.softmax(tf.matmul(thought_vector, W_y))\n",
    "    \n",
    "    # convert previous output to one hot vectors\n",
    "    encoder_output_one_hot = tf.nn.embedding_lookup(embed, tf.argmax(encoder_output, axis=1))\n",
    "    \n",
    "    decoder_output, decoder_output_one_hot = decoder(thought_vector, encoder_output, encoder_output_one_hot)\n",
    "    \n",
    "    seq_output = tf.transpose(decoder_output, perm=[1, 0, 2])\n",
    "    \n",
    "    with tf.name_scope('loss'):\n",
    "        loss = tf.reduce_mean(tf.nn.softmax_cross_entropy_with_logits(labels=Y_embed, \n",
    "                                                                      logits=seq_output))\n",
    "    \n",
    "    with tf.name_scope('train'):\n",
    "        optimizer = tf.train.AdamOptimizer(learning_rate).minimize(loss)\n",
    "    \n",
    "    output = tf.argmax(decoder_output, axis=2)\n",
    "    \n",
    "    with tf.Session() as sess:\n",
    "        sess.run(tf.global_variables_initializer())\n",
    "        sess.run(tf.local_variables_initializer())\n",
    "        \n",
    "        for i in range(10001):\n",
    "            \n",
    "            _,l = sess.run([optimizer, loss], \n",
    "                           {X:person1, \n",
    "                            Y:person2, \n",
    "                            h_in: np.zeros((batch_size, hidden_shape))})\n",
    "            \n",
    "            if i%1000 == 0:\n",
    "                print(l)\n",
    "            \n",
    "            if i%5000 == 0:\n",
    "                pred = sess.run(output, {X:person1, Y:person2, h_in: np.zeros((batch_size, hidden_shape))})\n",
    "                for j in range(batch_size):\n",
    "                    print(\"person1 : \", [[id_to_word[w] for w in sent] for sent in person1][j])\n",
    "                    print(\"person2 : \", [[id_to_word[w] for w in sent] for sent in pred.T][j])\n",
    "                    print(\"====================================================\")\n",
    "                    \n",
    "        \n",
    "        out = sess.run(output, {X:a, Y:person2, h_in: np.zeros((1, hidden_shape))})\n",
    "        print(\"personA : \", [[id_to_word[w] for w in sent] for sent in a])\n",
    "        print(\"bot     : \", [[id_to_word[w] for w in sent] for sent in out.T])\n",
    "        writer = tf.summary.FileWriter('tmp/1')\n",
    "        writer.add_graph(sess.graph)"
   ]
  },
  {
   "cell_type": "code",
   "execution_count": null,
   "metadata": {
    "collapsed": false
   },
   "outputs": [],
   "source": [
    "! tensorboard --logdir ./tmp/1"
   ]
  },
  {
   "cell_type": "code",
   "execution_count": null,
   "metadata": {
    "collapsed": true
   },
   "outputs": [],
   "source": []
  }
 ],
 "metadata": {
  "kernelspec": {
   "display_name": "Python 3",
   "language": "python",
   "name": "python3"
  },
  "language_info": {
   "codemirror_mode": {
    "name": "ipython",
    "version": 3
   },
   "file_extension": ".py",
   "mimetype": "text/x-python",
   "name": "python",
   "nbconvert_exporter": "python",
   "pygments_lexer": "ipython3",
   "version": "3.5.2"
  }
 },
 "nbformat": 4,
 "nbformat_minor": 0
}
